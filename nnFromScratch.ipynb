{
  "nbformat": 4,
  "nbformat_minor": 0,
  "metadata": {
    "colab": {
      "provenance": []
    },
    "kernelspec": {
      "name": "python3",
      "display_name": "Python 3"
    },
    "language_info": {
      "name": "python"
    }
  },
  "cells": [
    {
      "cell_type": "code",
      "execution_count": 108,
      "metadata": {
        "id": "qFW3AVtW_MfR"
      },
      "outputs": [],
      "source": [
        "import numpy as np\n",
        "import scipy\n",
        "import tqdm\n",
        "\n",
        "from sklearn.model_selection import train_test_split\n",
        "from sklearn.metrics import accuracy_score\n",
        "from sklearn.datasets import load_digits"
      ]
    },
    {
      "cell_type": "code",
      "source": [
        "np.random.seed(42)\n",
        "\n",
        "X, y = load_digits(return_X_y=True)\n",
        "\n",
        "scaled_X = (np.asfarray(X) / 255 * 0.99) + 0.01\n",
        "\n",
        "X_train, X_test, y_train, y_test = train_test_split(scaled_X, y, test_size=0.3, random_state=42)"
      ],
      "metadata": {
        "id": "OysVWJQO4nrY"
      },
      "execution_count": 148,
      "outputs": []
    },
    {
      "cell_type": "code",
      "source": [
        "class NeuralNetwork:\n",
        "\n",
        "\n",
        "    def __init__(self, input_nodes, hid_layer1, hid_layer2, hid_layer3, output_nodes, learning_rate):\n",
        "\n",
        "        self.inodes = input_nodes\n",
        "        self.hnodes1 = hid_layer1\n",
        "        self.hnodes2 = hid_layer2\n",
        "        self.hnodes3 = hid_layer3\n",
        "        self.onodes = output_nodes\n",
        "\n",
        "        self.w_input_1 = np.random.normal(0, pow(self.hnodes1, -0.5), (self.hnodes1, self.inodes))\n",
        "        self.w_1_2 = np.random.normal(0, pow(self.hnodes2, -0.5), (self.hnodes2, self.hnodes1))\n",
        "        self.w_2_3 = np.random.normal(0, pow(self.hnodes3, -0.5), (self.hnodes3, self.hnodes2))\n",
        "        self.w_3_output = np.random.normal(0, pow(self.onodes, -0.5), (self.onodes, self.hnodes3))\n",
        "\n",
        "        self.lr = learning_rate\n",
        "\n",
        "        self.activation_function = lambda x: scipy.special.expit(x)\n",
        "\n",
        "        pass\n",
        "\n",
        "# =====================================================================================================\n",
        "\n",
        "    def train(self, inputs_list, targets_list):\n",
        "\n",
        "        inputs = np.array(inputs_list, ndmin=2).T\n",
        "        targets = np.array(targets_list, ndmin=2).T\n",
        "\n",
        "        inputs_input_1 = np.dot(self.w_input_1, inputs)\n",
        "        outputs_input_1 = self.activation_function(inputs_input_1)\n",
        "\n",
        "        inputs_1_2 = np.dot(self.w_1_2, outputs_input_1)\n",
        "        outputs_1_2 = self.activation_function(inputs_1_2)\n",
        "\n",
        "        inputs_2_3 = np.dot(self.w_2_3, outputs_1_2)\n",
        "        outputs_2_3 = self.activation_function(inputs_2_3)\n",
        "\n",
        "        inputs_3_output = np.dot(self.w_3_output, outputs_2_3)\n",
        "        outputs_3_output = self.activation_function(inputs_3_output)\n",
        "\n",
        "        output_errors = targets - outputs_3_output\n",
        "        errors_2_3 = np.dot(self.w_3_output.T, output_errors)\n",
        "        errors_1_2 = np.dot(self.w_2_3.T, errors_2_3)\n",
        "        errors_input_1 = np.dot(self.w_1_2.T, errors_1_2)\n",
        "\n",
        "        self.w_3_output += self.lr * np.dot((output_errors * outputs_3_output * (1 - outputs_3_output)), np.transpose(outputs_2_3))\n",
        "        self.w_2_3 += self.lr * np.dot((errors_2_3 * outputs_2_3 * (1 - outputs_2_3)), np.transpose(outputs_1_2))\n",
        "        self.w_1_2 += self.lr * np.dot((errors_1_2 * outputs_1_2 * (1 - outputs_1_2)), np.transpose(outputs_input_1))\n",
        "        self.w_input_1 += self.lr * np.dot((errors_input_1 * outputs_input_1 * (1 - outputs_input_1)), np.transpose(inputs))\n",
        "\n",
        "        pass\n",
        "\n",
        "# =====================================================================================================\n",
        "\n",
        "    def query(self, inputs_list):\n",
        "\n",
        "        inputs = np.array(inputs_list, ndmin=2).T\n",
        "\n",
        "        inputs_input_1 = np.dot(self.w_input_1, inputs)\n",
        "        outputs_input_1 = self.activation_function(inputs_input_1)\n",
        "\n",
        "        inputs_1_2 = np.dot(self.w_1_2, outputs_input_1)\n",
        "        outputs_1_2 = self.activation_function(inputs_1_2)\n",
        "\n",
        "        inputs_2_3 = np.dot(self.w_2_3, outputs_1_2)\n",
        "        outputs_2_3 = self.activation_function(inputs_2_3)\n",
        "\n",
        "        inputs_3_output = np.dot(self.w_3_output, outputs_2_3)\n",
        "        outputs_3_output = self.activation_function(inputs_3_output)\n",
        "\n",
        "        return outputs_3_output"
      ],
      "metadata": {
        "id": "SKSEO3ZfC6qK"
      },
      "execution_count": 149,
      "outputs": []
    },
    {
      "cell_type": "code",
      "source": [
        "epochs = 200\n",
        "input_nodes = 64\n",
        "hid_layer1 = 42\n",
        "hid_layer2 = 28\n",
        "hid_layer3 = 20\n",
        "output_nodes = 10\n",
        "learning_rate = 0.1\n",
        "\n",
        "nn = NeuralNetwork(\n",
        "    input_nodes = input_nodes,\n",
        "    hid_layer1 = hid_layer1,\n",
        "    hid_layer2 = hid_layer2,\n",
        "    hid_layer3 = hid_layer3,\n",
        "    output_nodes = output_nodes,\n",
        "    learning_rate = learning_rate\n",
        ")"
      ],
      "metadata": {
        "id": "_Mw2M-wUWGi8"
      },
      "execution_count": 150,
      "outputs": []
    },
    {
      "cell_type": "code",
      "source": [
        "for epoch in tqdm.tqdm(range(epochs)):\n",
        "    for i in range(X_train.shape[0]):\n",
        "\n",
        "        targets = np.zeros(output_nodes) + 0.01\n",
        "        targets[int(y_train[i])] = 0.99\n",
        "\n",
        "        nn.train(X_train[i], targets)"
      ],
      "metadata": {
        "colab": {
          "base_uri": "https://localhost:8080/"
        },
        "id": "7ZhgKTxWWGfy",
        "outputId": "ffe38367-57c1-41dd-e497-524c6adc493e"
      },
      "execution_count": 151,
      "outputs": [
        {
          "output_type": "stream",
          "name": "stderr",
          "text": [
            "100%|██████████| 200/200 [00:21<00:00,  9.24it/s]\n"
          ]
        }
      ]
    },
    {
      "cell_type": "code",
      "source": [
        "y_pred_test = [np.argmax(nn.query(i)) for i in X_test]\n",
        "y_pred_train = [np.argmax(nn.query(i)) for i in X_train]\n",
        "\n",
        "print(f\"Train score: {accuracy_score(y_train, y_pred_train)}\")\n",
        "print(f\"Test score: {accuracy_score(y_test, y_pred_test)}\")"
      ],
      "metadata": {
        "colab": {
          "base_uri": "https://localhost:8080/"
        },
        "id": "L7NnUuqn0G2H",
        "outputId": "fc00220c-574d-4834-d089-681a9258fea3"
      },
      "execution_count": 152,
      "outputs": [
        {
          "output_type": "stream",
          "name": "stdout",
          "text": [
            "Train score: 0.9992044550517104\n",
            "Test score: 0.9574074074074074\n"
          ]
        }
      ]
    }
  ]
}